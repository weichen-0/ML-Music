{
 "cells": [
  {
   "cell_type": "code",
   "execution_count": 1,
   "metadata": {},
   "outputs": [],
   "source": [
    "import csv"
   ]
  },
  {
   "cell_type": "code",
   "execution_count": 2,
   "metadata": {},
   "outputs": [],
   "source": [
    "file = open(\"./training_data.txt\", 'r')\n",
    "csvReader = csv.reader(file)"
   ]
  },
  {
   "cell_type": "code",
   "execution_count": 14,
   "metadata": {},
   "outputs": [],
   "source": [
    "with open(\"./training_data.txt\", 'r') as f:\n",
    "    csv_reader = csv.reader(f, delimiter='\\n')\n",
    "    tracker = [['epoch','loss','accuracy']]\n",
    "    count = 1\n",
    "    \n",
    "    for row in csv_reader:\n",
    "        temp = row[0].split()\n",
    "        if temp[1] == '151,':\n",
    "            tracker.append([count, temp[3][:-1], temp[-1]])\n",
    "            count += 1"
   ]
  },
  {
   "cell_type": "code",
   "execution_count": 16,
   "metadata": {},
   "outputs": [],
   "source": [
    "with open('./training_data.csv', 'w') as log_file:\n",
    "    log_writer = csv.writer(log_file, delimiter=',')\n",
    "    for row in tracker:\n",
    "        log_writer.writerow(row)"
   ]
  },
  {
   "cell_type": "code",
   "execution_count": null,
   "metadata": {},
   "outputs": [],
   "source": []
  }
 ],
 "metadata": {
  "kernelspec": {
   "display_name": "Python 3",
   "language": "python",
   "name": "python3"
  },
  "language_info": {
   "codemirror_mode": {
    "name": "ipython",
    "version": 3
   },
   "file_extension": ".py",
   "mimetype": "text/x-python",
   "name": "python",
   "nbconvert_exporter": "python",
   "pygments_lexer": "ipython3",
   "version": "3.6.8"
  }
 },
 "nbformat": 4,
 "nbformat_minor": 2
}
